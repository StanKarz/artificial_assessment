{
 "cells": [
  {
   "cell_type": "markdown",
   "metadata": {},
   "source": [
    "# Architecture Diagram\n"
   ]
  },
  {
   "cell_type": "markdown",
   "metadata": {},
   "source": [
    "![title](../img/architecture_design.png)\n"
   ]
  },
  {
   "cell_type": "markdown",
   "metadata": {},
   "source": [
    "## Components\n",
    "\n",
    "- API Client: The external interface that users interact with to access the wine classification service:\n",
    "\n",
    "  - Makes HTTP requests to the API gateway\n",
    "  - Handles responses and potential errors\n",
    "  - Could be implemented as a web/mobile app or programmatic client\n",
    "  - Supports different types of requests (e.g. single predictions or batch processing)\n",
    "\n",
    "- API Gateway: Serves as the entry point for all requests, handling authentication and request validation. It provides a RESTful interface for the wine classification service:\n",
    "\n",
    "  - Handles rate limiting to prevent service overload\n",
    "  - Provides API keys for client authentication\n",
    "  - Routes requests to appropriate Lambda functions\n",
    "\n",
    "- Prediction Lambda: The main serverless function that handles real-time predictions:\n",
    "\n",
    "  - Loads the model artifacts from S3\n",
    "  - Processes incoming requests\n",
    "  - Returns predictions\n",
    "  - Stores prediction metadata in DynamoDB\n",
    "  - Outputs custom metrics to CloudWatch\n",
    "\n",
    "- Batch Training Lambda: a separate serverless function for model maintenance:\n",
    "\n",
    "  - Periodically retrains the model using accumulated data\n",
    "  - Updates model artifacts in S3\n",
    "  - Tracks training metrics and performance\n",
    "\n",
    "- S3 Bucket: Stores model artifacts and training data:\n",
    "\n",
    "  - Model directory: Contains pipeline and label encoder .pkl files\n",
    "  - Training data directory: Stores historical data for retraining\n",
    "  - Version control of models through S3 versioning\n",
    "\n",
    "- DynamoDB: Provides high-performance storage for prediction metadata:\n",
    "\n",
    "  - Stores request details, timestamps, and prediction results\n",
    "  - Enables quick retrieval of historical predictions\n",
    "  - Supports analysis of model performance over time\n",
    "  - Maintains audit trails for compliance purposes\n",
    "\n",
    "- CloudWatch: Handles monitoring and logging across the entire system:\n",
    "\n",
    "  - Tracks model performance metrics\n",
    "  - Monitors API latency and errors\n",
    "  - Sets up alerts for anomalies\n",
    "  - Collects logs from all Lambda functions\n",
    "  - Enables custom dashboards for visualization\n",
    "\n",
    "- Custom Metrics: Business-specific measurements tracked through CloudWatch:\n",
    "  - Prediction confidence scores\n",
    "  - Request volumes and patterns\n",
    "  - Model accuracy trends\n",
    "  - Response time distributions\n",
    "  - Error rates by wine variety or price range\n"
   ]
  },
  {
   "cell_type": "markdown",
   "metadata": {},
   "source": [
    "### **Component Interactions Overview**\n",
    "\n",
    "The wine classification service architecture leverages AWS serverless services for scalability and maintainability. The process begins when an API Client sends a request to the system via the API Gateway, which handles authentication, authorization, and request validation. The API Gateway forwards valid requests to the Prediction Lambda, which retrieves the latest machine-learning model artifacts from the S3 Bucket. The Prediction Lambda runs the wine classification pipeline using the retrieved model and stores prediction results and metadata in DynamoDB. All operational logs and performance metrics from the Prediction Lambda and DynamoDB interactions are collected by CloudWatch, which also generates Custom Metrics for system monitoring and analysis.\n",
    "Simultaneously, the Batch Training Lambda runs at scheduled intervals, accessing training data from the S3 Bucket, retraining the model, and saving updated model artifacts back to S3. CloudWatch also monitors the Batch Training Lambda, ensuring the reliability and performance of both prediction and training processes.\n"
   ]
  },
  {
   "cell_type": "markdown",
   "metadata": {},
   "source": [
    "### **Architectural Decisions and Component Selection**\n",
    "\n",
    "API Gateway provides a secure and scalable entry point for all client requests. AWS Lambda functions enable on-demand, serverless computation, scaling automatically with usage. S3 Bucket serves as the central storage for both training data and versioned model artifacts. DynamoDB ensures fast, reliable access to prediction metadata with its low-latency NoSQL design. CloudWatch delivers comprehensive monitoring and logging, including Custom Metrics that track key system health indicators such as request latency, model performance, and training job outcomes.\n"
   ]
  },
  {
   "cell_type": "markdown",
   "metadata": {},
   "source": [
    "### **Production Deployment Strategy**\n",
    "\n",
    "We adopt a modern DevOps approach using Docker for consistent application packaging across environments and AWS CDK for Infrastructure as Code, ensuring version control and reproducibility. AWS CodePipeline automates our CI/CD process, including building, testing, and deploying application and infrastructure changes. A blue-green deployment strategy minimizes downtime by running new and existing versions in parallel, allowing seamless rollbacks if necessary. This deployment strategy ensures reliable, maintainable, and scalable production releases, with automation reducing the risk of manual errors.\n"
   ]
  },
  {
   "cell_type": "markdown",
   "metadata": {},
   "source": []
  }
 ],
 "metadata": {
  "language_info": {
   "name": "python"
  }
 },
 "nbformat": 4,
 "nbformat_minor": 2
}
